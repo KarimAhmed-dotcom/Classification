{
 "cells": [
  {
   "cell_type": "markdown",
   "id": "b3bd09cd",
   "metadata": {},
   "source": [
    "### Bussiness Problem"
   ]
  },
  {
   "cell_type": "markdown",
   "id": "1a55a12b",
   "metadata": {},
   "source": [
    "“IT jobs and technologies keep evolving quickly. This makes our field to be one of the\n",
    "most interesting out there. But on the other hand, such fast development confuses\n",
    "students. They do not know which skills they need to learn for which job\n",
    "\n",
    "“Do I need to learn C++ to be a Data Scientist?” “Do DevOps and System admins use\n",
    "the same technologies?” “I really like JavaScript; can I use it in Data Analytics?”\n",
    "Those are some of the questions that students ask \n",
    "\n",
    "“we need to develop a data-driven solution for our students to answer such\n",
    "questions? They mostly want to understand the relationships between the jobs and\n",
    "the technologies."
   ]
  },
  {
   "cell_type": "markdown",
   "id": "e417713a",
   "metadata": {},
   "source": [
    "### Bussiness Case"
   ]
  },
  {
   "cell_type": "markdown",
   "id": "2556e9b1",
   "metadata": {},
   "source": [
    "“the KPI we need to improve it is the increasing the enrollment of the students in institute"
   ]
  },
  {
   "cell_type": "code",
   "execution_count": null,
   "id": "70e00a04",
   "metadata": {},
   "outputs": [],
   "source": []
  }
 ],
 "metadata": {
  "kernelspec": {
   "display_name": "Python 3 (ipykernel)",
   "language": "python",
   "name": "python3"
  },
  "language_info": {
   "codemirror_mode": {
    "name": "ipython",
    "version": 3
   },
   "file_extension": ".py",
   "mimetype": "text/x-python",
   "name": "python",
   "nbconvert_exporter": "python",
   "pygments_lexer": "ipython3",
   "version": "3.10.9"
  }
 },
 "nbformat": 4,
 "nbformat_minor": 5
}
