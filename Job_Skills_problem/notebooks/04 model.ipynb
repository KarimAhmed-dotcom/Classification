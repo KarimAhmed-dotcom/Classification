{
 "cells": [
  {
   "cell_type": "markdown",
   "id": "23333df3",
   "metadata": {},
   "source": [
    "### Building Model"
   ]
  },
  {
   "cell_type": "markdown",
   "id": "5ade43cb",
   "metadata": {},
   "source": [
    "- in this step we will make machine learning model to predict a job based on some user skills"
   ]
  },
  {
   "cell_type": "markdown",
   "id": "4059ca74",
   "metadata": {},
   "source": [
    "- before model step we detected in analysis that we have unbalanced classes in our data so we should resample our data to keep the performance of the model"
   ]
  },
  {
   "cell_type": "code",
   "execution_count": 1,
   "id": "92b76798",
   "metadata": {},
   "outputs": [],
   "source": [
    "import pandas as pd \n",
    "import numpy as np \n",
    "import pickle \n",
    "from matplotlib import pyplot as plt \n",
    "import plotly.express as px \n",
    "import plotly.graph_objects as go \n",
    "import seaborn as sns"
   ]
  },
  {
   "cell_type": "code",
   "execution_count": 2,
   "id": "52f1acce",
   "metadata": {},
   "outputs": [],
   "source": [
    "df=pd.read_pickle('C:\\\\Users\\\\PC\\\\DS_PRO\\\\Classification\\\\data\\\\processed\\\\3_preprocessed_df.pickle')"
   ]
  },
  {
   "cell_type": "code",
   "execution_count": 3,
   "id": "bef19dc7",
   "metadata": {},
   "outputs": [
    {
     "data": {
      "text/html": [
       "<div>\n",
       "<style scoped>\n",
       "    .dataframe tbody tr th:only-of-type {\n",
       "        vertical-align: middle;\n",
       "    }\n",
       "\n",
       "    .dataframe tbody tr th {\n",
       "        vertical-align: top;\n",
       "    }\n",
       "\n",
       "    .dataframe thead tr th {\n",
       "        text-align: left;\n",
       "    }\n",
       "</style>\n",
       "<table border=\"1\" class=\"dataframe\">\n",
       "  <thead>\n",
       "    <tr>\n",
       "      <th></th>\n",
       "      <th colspan=\"10\" halign=\"left\">LanguageHaveWorkedWith</th>\n",
       "      <th>...</th>\n",
       "      <th colspan=\"10\" halign=\"left\">DevType</th>\n",
       "    </tr>\n",
       "    <tr>\n",
       "      <th></th>\n",
       "      <th>APL</th>\n",
       "      <th>Assembly</th>\n",
       "      <th>Bash/Shell</th>\n",
       "      <th>C</th>\n",
       "      <th>C#</th>\n",
       "      <th>C++</th>\n",
       "      <th>COBOL</th>\n",
       "      <th>Clojure</th>\n",
       "      <th>Crystal</th>\n",
       "      <th>Dart</th>\n",
       "      <th>...</th>\n",
       "      <th>Developer, back-end</th>\n",
       "      <th>Developer, desktop or enterprise applications</th>\n",
       "      <th>Developer, embedded applications or devices</th>\n",
       "      <th>Developer, front-end</th>\n",
       "      <th>Developer, full-stack</th>\n",
       "      <th>Developer, game or graphics</th>\n",
       "      <th>Developer, mobile</th>\n",
       "      <th>Engineer, data</th>\n",
       "      <th>Scientist</th>\n",
       "      <th>System administrator</th>\n",
       "    </tr>\n",
       "  </thead>\n",
       "  <tbody>\n",
       "    <tr>\n",
       "      <th>0</th>\n",
       "      <td>0</td>\n",
       "      <td>0</td>\n",
       "      <td>0</td>\n",
       "      <td>0</td>\n",
       "      <td>0</td>\n",
       "      <td>1</td>\n",
       "      <td>0</td>\n",
       "      <td>0</td>\n",
       "      <td>0</td>\n",
       "      <td>0</td>\n",
       "      <td>...</td>\n",
       "      <td>0</td>\n",
       "      <td>0</td>\n",
       "      <td>0</td>\n",
       "      <td>0</td>\n",
       "      <td>0</td>\n",
       "      <td>0</td>\n",
       "      <td>1</td>\n",
       "      <td>0</td>\n",
       "      <td>0</td>\n",
       "      <td>0</td>\n",
       "    </tr>\n",
       "    <tr>\n",
       "      <th>3</th>\n",
       "      <td>0</td>\n",
       "      <td>0</td>\n",
       "      <td>0</td>\n",
       "      <td>0</td>\n",
       "      <td>0</td>\n",
       "      <td>0</td>\n",
       "      <td>0</td>\n",
       "      <td>0</td>\n",
       "      <td>0</td>\n",
       "      <td>0</td>\n",
       "      <td>...</td>\n",
       "      <td>0</td>\n",
       "      <td>0</td>\n",
       "      <td>0</td>\n",
       "      <td>1</td>\n",
       "      <td>0</td>\n",
       "      <td>0</td>\n",
       "      <td>0</td>\n",
       "      <td>0</td>\n",
       "      <td>0</td>\n",
       "      <td>0</td>\n",
       "    </tr>\n",
       "    <tr>\n",
       "      <th>4</th>\n",
       "      <td>0</td>\n",
       "      <td>0</td>\n",
       "      <td>1</td>\n",
       "      <td>0</td>\n",
       "      <td>0</td>\n",
       "      <td>0</td>\n",
       "      <td>0</td>\n",
       "      <td>0</td>\n",
       "      <td>0</td>\n",
       "      <td>0</td>\n",
       "      <td>...</td>\n",
       "      <td>0</td>\n",
       "      <td>1</td>\n",
       "      <td>0</td>\n",
       "      <td>0</td>\n",
       "      <td>1</td>\n",
       "      <td>0</td>\n",
       "      <td>0</td>\n",
       "      <td>1</td>\n",
       "      <td>0</td>\n",
       "      <td>0</td>\n",
       "    </tr>\n",
       "    <tr>\n",
       "      <th>8</th>\n",
       "      <td>0</td>\n",
       "      <td>0</td>\n",
       "      <td>0</td>\n",
       "      <td>0</td>\n",
       "      <td>0</td>\n",
       "      <td>0</td>\n",
       "      <td>0</td>\n",
       "      <td>0</td>\n",
       "      <td>0</td>\n",
       "      <td>0</td>\n",
       "      <td>...</td>\n",
       "      <td>0</td>\n",
       "      <td>0</td>\n",
       "      <td>0</td>\n",
       "      <td>1</td>\n",
       "      <td>0</td>\n",
       "      <td>0</td>\n",
       "      <td>0</td>\n",
       "      <td>0</td>\n",
       "      <td>0</td>\n",
       "      <td>0</td>\n",
       "    </tr>\n",
       "    <tr>\n",
       "      <th>9</th>\n",
       "      <td>0</td>\n",
       "      <td>0</td>\n",
       "      <td>0</td>\n",
       "      <td>0</td>\n",
       "      <td>0</td>\n",
       "      <td>1</td>\n",
       "      <td>0</td>\n",
       "      <td>0</td>\n",
       "      <td>0</td>\n",
       "      <td>0</td>\n",
       "      <td>...</td>\n",
       "      <td>0</td>\n",
       "      <td>0</td>\n",
       "      <td>0</td>\n",
       "      <td>0</td>\n",
       "      <td>0</td>\n",
       "      <td>0</td>\n",
       "      <td>0</td>\n",
       "      <td>0</td>\n",
       "      <td>0</td>\n",
       "      <td>0</td>\n",
       "    </tr>\n",
       "  </tbody>\n",
       "</table>\n",
       "<p>5 rows × 141 columns</p>\n",
       "</div>"
      ],
      "text/plain": [
       "  LanguageHaveWorkedWith                                                      \\\n",
       "                     APL Assembly Bash/Shell  C C# C++ COBOL Clojure Crystal   \n",
       "0                      0        0          0  0  0   1     0       0       0   \n",
       "3                      0        0          0  0  0   0     0       0       0   \n",
       "4                      0        0          1  0  0   0     0       0       0   \n",
       "8                      0        0          0  0  0   0     0       0       0   \n",
       "9                      0        0          0  0  0   1     0       0       0   \n",
       "\n",
       "        ...             DevType                                                \\\n",
       "  Dart  ... Developer, back-end Developer, desktop or enterprise applications   \n",
       "0    0  ...                   0                                             0   \n",
       "3    0  ...                   0                                             0   \n",
       "4    0  ...                   0                                             1   \n",
       "8    0  ...                   0                                             0   \n",
       "9    0  ...                   0                                             0   \n",
       "\n",
       "                                                                    \\\n",
       "  Developer, embedded applications or devices Developer, front-end   \n",
       "0                                           0                    0   \n",
       "3                                           0                    1   \n",
       "4                                           0                    0   \n",
       "8                                           0                    1   \n",
       "9                                           0                    0   \n",
       "\n",
       "                                                                       \\\n",
       "  Developer, full-stack Developer, game or graphics Developer, mobile   \n",
       "0                     0                           0                 1   \n",
       "3                     0                           0                 0   \n",
       "4                     1                           0                 0   \n",
       "8                     0                           0                 0   \n",
       "9                     0                           0                 0   \n",
       "\n",
       "                                                 \n",
       "  Engineer, data Scientist System administrator  \n",
       "0              0         0                    0  \n",
       "3              0         0                    0  \n",
       "4              1         0                    0  \n",
       "8              0         0                    0  \n",
       "9              0         0                    0  \n",
       "\n",
       "[5 rows x 141 columns]"
      ]
     },
     "execution_count": 3,
     "metadata": {},
     "output_type": "execute_result"
    }
   ],
   "source": [
    "df.head()"
   ]
  },
  {
   "cell_type": "code",
   "execution_count": 4,
   "id": "52d378ea",
   "metadata": {},
   "outputs": [],
   "source": [
    "def calculate_quality(ground_truth,predictions,metric_function) : \n",
    "    \n",
    "    quality_scores={} \n",
    "    for col in predictions.columns : \n",
    "        role_pred=predictions[col].copy() \n",
    "        role_truth=ground_truth[col].copy() \n",
    "        quality_scores[col]=round(metric_function(role_truth,role_pred)*100,2) \n",
    "    quality_scores=pd.Series(quality_scores.values(),index=quality_scores.keys())\n",
    "    \n",
    "    quality_scores=quality_scores.sort_values(ascending=False) \n",
    "    \n",
    "    return quality_scores"
   ]
  },
  {
   "cell_type": "code",
   "execution_count": 5,
   "id": "042d151b",
   "metadata": {},
   "outputs": [
    {
     "data": {
      "text/plain": [
       "Academic researcher                               1708\n",
       "Data or business analyst                          1658\n",
       "Data scientist or machine learning specialist     2460\n",
       "Database administrator                            1210\n",
       "DevOps specialist                                 3056\n",
       "Developer, QA or test                             1135\n",
       "Developer, back-end                              17084\n",
       "Developer, desktop or enterprise applications     4845\n",
       "Developer, embedded applications or devices       2138\n",
       "Developer, front-end                              8932\n",
       "Developer, full-stack                            20655\n",
       "Developer, game or graphics                        899\n",
       "Developer, mobile                                 4751\n",
       "Engineer, data                                    1941\n",
       "Scientist                                         1046\n",
       "System administrator                              2069\n",
       "dtype: int64"
      ]
     },
     "execution_count": 5,
     "metadata": {},
     "output_type": "execute_result"
    }
   ],
   "source": [
    "freq_roles=df['DevType'].copy().sum(axis=0) \n",
    "freq_roles"
   ]
  },
  {
   "cell_type": "markdown",
   "id": "a323f9e4",
   "metadata": {},
   "source": [
    "- we have unbalanced classes so we can balance classes"
   ]
  },
  {
   "cell_type": "markdown",
   "id": "77b4f9cd",
   "metadata": {},
   "source": [
    "**Resample Roles**"
   ]
  },
  {
   "cell_type": "code",
   "execution_count": 6,
   "id": "248f24e7",
   "metadata": {},
   "outputs": [],
   "source": [
    "roles_df=df['DevType'].copy()"
   ]
  },
  {
   "cell_type": "code",
   "execution_count": 7,
   "id": "725004e0",
   "metadata": {},
   "outputs": [],
   "source": [
    "SAMPLES_PER_CLASS=1200 \n",
    "resampled_df=[]\n",
    "for role in roles_df.columns : \n",
    "    role_mask=(roles_df[role]==1) \n",
    "    sub_df=df.loc[role_mask]\n",
    "    \n",
    "    if len(sub_df) < SAMPLES_PER_CLASS : \n",
    "        sub_df=sub_df.sample(SAMPLES_PER_CLASS,replace=True,random_state=0) \n",
    "    else : \n",
    "        sub_df=sub_df.sample(SAMPLES_PER_CLASS,random_state=0) \n",
    "    resampled_df.append(sub_df)"
   ]
  },
  {
   "cell_type": "code",
   "execution_count": 8,
   "id": "bde6e8a1",
   "metadata": {},
   "outputs": [],
   "source": [
    "resampled_df=pd.concat(resampled_df,axis=0)"
   ]
  },
  {
   "cell_type": "code",
   "execution_count": 9,
   "id": "7fc4786e",
   "metadata": {},
   "outputs": [
    {
     "data": {
      "text/plain": [
       "Developer, back-end                              5710\n",
       "Developer, full-stack                            5602\n",
       "Developer, desktop or enterprise applications    2690\n",
       "Developer, front-end                             2614\n",
       "Data scientist or machine learning specialist    2576\n",
       "Academic researcher                              2280\n",
       "DevOps specialist                                2170\n",
       "Developer, mobile                                2155\n",
       "System administrator                             2110\n",
       "Engineer, data                                   2046\n",
       "Data or business analyst                         1965\n",
       "Scientist                                        1910\n",
       "Developer, embedded applications or devices      1773\n",
       "Database administrator                           1765\n",
       "Developer, QA or test                            1514\n",
       "Developer, game or graphics                      1441\n",
       "dtype: int64"
      ]
     },
     "execution_count": 9,
     "metadata": {},
     "output_type": "execute_result"
    }
   ],
   "source": [
    "resampled_df['DevType'].copy().sum(axis=0).sort_values(ascending=False)"
   ]
  },
  {
   "cell_type": "markdown",
   "id": "4b8cb1e9",
   "metadata": {},
   "source": [
    "- so we have semi balanced dataframe"
   ]
  },
  {
   "cell_type": "code",
   "execution_count": 10,
   "id": "74424c63",
   "metadata": {},
   "outputs": [
    {
     "data": {
      "text/plain": [
       "(19200, 141)"
      ]
     },
     "execution_count": 10,
     "metadata": {},
     "output_type": "execute_result"
    }
   ],
   "source": [
    "resampled_df.shape"
   ]
  },
  {
   "cell_type": "markdown",
   "id": "23b3953c",
   "metadata": {},
   "source": [
    "**Split data into train & test**"
   ]
  },
  {
   "cell_type": "code",
   "execution_count": 11,
   "id": "3a035044",
   "metadata": {},
   "outputs": [],
   "source": [
    "from sklearn.model_selection import train_test_split"
   ]
  },
  {
   "cell_type": "code",
   "execution_count": 12,
   "id": "249b481f",
   "metadata": {},
   "outputs": [],
   "source": [
    "X_train, X_test, Y_train, Y_test = train_test_split(resampled_df.drop('DevType', axis=1),\n",
    "                                                    resampled_df['DevType'],test_size=0.3,\n",
    "                                                    random_state=0)"
   ]
  },
  {
   "cell_type": "code",
   "execution_count": 13,
   "id": "a19c83d9",
   "metadata": {},
   "outputs": [],
   "source": [
    "from sklearn.ensemble import RandomForestClassifier \n",
    "from sklearn.tree import DecisionTreeClassifier\n",
    "from sklearn.model_selection import GridSearchCV\n",
    "from sklearn.decomposition import PCA\n",
    "from sklearn.pipeline import make_pipeline\n",
    "from sklearn.metrics import precision_score ,recall_score ,accuracy_score,precision_recall_curve \n",
    "from sklearn.model_selection import cross_val_score"
   ]
  },
  {
   "cell_type": "code",
   "execution_count": 14,
   "id": "4928324e",
   "metadata": {},
   "outputs": [],
   "source": [
    "pca=PCA(n_components=0.7)"
   ]
  },
  {
   "cell_type": "code",
   "execution_count": 15,
   "id": "e9f08e46",
   "metadata": {},
   "outputs": [],
   "source": [
    "X_train_trans=pca.fit_transform(X_train)"
   ]
  },
  {
   "cell_type": "code",
   "execution_count": 16,
   "id": "21b144a0",
   "metadata": {},
   "outputs": [],
   "source": [
    "rf_clf=RandomForestClassifier()"
   ]
  },
  {
   "cell_type": "code",
   "execution_count": 17,
   "id": "bb83fe8d",
   "metadata": {},
   "outputs": [],
   "source": [
    "pipe=make_pipeline(PCA(),RandomForestClassifier())"
   ]
  },
  {
   "cell_type": "code",
   "execution_count": 18,
   "id": "0e8dee27",
   "metadata": {},
   "outputs": [],
   "source": [
    "grid_params=[{\n",
    "    'pca__n_components': [0.7, 0.85, 0.95],\n",
    "    'randomforestclassifier__n_estimators': [250, 500],\n",
    "    'randomforestclassifier__max_depth':    [3, 10, None],\n",
    "}]\n"
   ]
  },
  {
   "cell_type": "code",
   "execution_count": 19,
   "id": "ef2cc711",
   "metadata": {},
   "outputs": [],
   "source": [
    "grid=GridSearchCV(pipe,param_grid=grid_params,cv=3)"
   ]
  },
  {
   "cell_type": "code",
   "execution_count": 20,
   "id": "181626b9",
   "metadata": {},
   "outputs": [
    {
     "data": {
      "text/html": [
       "<style>#sk-container-id-1 {color: black;background-color: white;}#sk-container-id-1 pre{padding: 0;}#sk-container-id-1 div.sk-toggleable {background-color: white;}#sk-container-id-1 label.sk-toggleable__label {cursor: pointer;display: block;width: 100%;margin-bottom: 0;padding: 0.3em;box-sizing: border-box;text-align: center;}#sk-container-id-1 label.sk-toggleable__label-arrow:before {content: \"▸\";float: left;margin-right: 0.25em;color: #696969;}#sk-container-id-1 label.sk-toggleable__label-arrow:hover:before {color: black;}#sk-container-id-1 div.sk-estimator:hover label.sk-toggleable__label-arrow:before {color: black;}#sk-container-id-1 div.sk-toggleable__content {max-height: 0;max-width: 0;overflow: hidden;text-align: left;background-color: #f0f8ff;}#sk-container-id-1 div.sk-toggleable__content pre {margin: 0.2em;color: black;border-radius: 0.25em;background-color: #f0f8ff;}#sk-container-id-1 input.sk-toggleable__control:checked~div.sk-toggleable__content {max-height: 200px;max-width: 100%;overflow: auto;}#sk-container-id-1 input.sk-toggleable__control:checked~label.sk-toggleable__label-arrow:before {content: \"▾\";}#sk-container-id-1 div.sk-estimator input.sk-toggleable__control:checked~label.sk-toggleable__label {background-color: #d4ebff;}#sk-container-id-1 div.sk-label input.sk-toggleable__control:checked~label.sk-toggleable__label {background-color: #d4ebff;}#sk-container-id-1 input.sk-hidden--visually {border: 0;clip: rect(1px 1px 1px 1px);clip: rect(1px, 1px, 1px, 1px);height: 1px;margin: -1px;overflow: hidden;padding: 0;position: absolute;width: 1px;}#sk-container-id-1 div.sk-estimator {font-family: monospace;background-color: #f0f8ff;border: 1px dotted black;border-radius: 0.25em;box-sizing: border-box;margin-bottom: 0.5em;}#sk-container-id-1 div.sk-estimator:hover {background-color: #d4ebff;}#sk-container-id-1 div.sk-parallel-item::after {content: \"\";width: 100%;border-bottom: 1px solid gray;flex-grow: 1;}#sk-container-id-1 div.sk-label:hover label.sk-toggleable__label {background-color: #d4ebff;}#sk-container-id-1 div.sk-serial::before {content: \"\";position: absolute;border-left: 1px solid gray;box-sizing: border-box;top: 0;bottom: 0;left: 50%;z-index: 0;}#sk-container-id-1 div.sk-serial {display: flex;flex-direction: column;align-items: center;background-color: white;padding-right: 0.2em;padding-left: 0.2em;position: relative;}#sk-container-id-1 div.sk-item {position: relative;z-index: 1;}#sk-container-id-1 div.sk-parallel {display: flex;align-items: stretch;justify-content: center;background-color: white;position: relative;}#sk-container-id-1 div.sk-item::before, #sk-container-id-1 div.sk-parallel-item::before {content: \"\";position: absolute;border-left: 1px solid gray;box-sizing: border-box;top: 0;bottom: 0;left: 50%;z-index: -1;}#sk-container-id-1 div.sk-parallel-item {display: flex;flex-direction: column;z-index: 1;position: relative;background-color: white;}#sk-container-id-1 div.sk-parallel-item:first-child::after {align-self: flex-end;width: 50%;}#sk-container-id-1 div.sk-parallel-item:last-child::after {align-self: flex-start;width: 50%;}#sk-container-id-1 div.sk-parallel-item:only-child::after {width: 0;}#sk-container-id-1 div.sk-dashed-wrapped {border: 1px dashed gray;margin: 0 0.4em 0.5em 0.4em;box-sizing: border-box;padding-bottom: 0.4em;background-color: white;}#sk-container-id-1 div.sk-label label {font-family: monospace;font-weight: bold;display: inline-block;line-height: 1.2em;}#sk-container-id-1 div.sk-label-container {text-align: center;}#sk-container-id-1 div.sk-container {/* jupyter's `normalize.less` sets `[hidden] { display: none; }` but bootstrap.min.css set `[hidden] { display: none !important; }` so we also need the `!important` here to be able to override the default hidden behavior on the sphinx rendered scikit-learn.org. See: https://github.com/scikit-learn/scikit-learn/issues/21755 */display: inline-block !important;position: relative;}#sk-container-id-1 div.sk-text-repr-fallback {display: none;}</style><div id=\"sk-container-id-1\" class=\"sk-top-container\"><div class=\"sk-text-repr-fallback\"><pre>GridSearchCV(cv=3,\n",
       "             estimator=Pipeline(steps=[(&#x27;pca&#x27;, PCA()),\n",
       "                                       (&#x27;randomforestclassifier&#x27;,\n",
       "                                        RandomForestClassifier())]),\n",
       "             param_grid=[{&#x27;pca__n_components&#x27;: [0.7, 0.85, 0.95],\n",
       "                          &#x27;randomforestclassifier__max_depth&#x27;: [3, 10, None],\n",
       "                          &#x27;randomforestclassifier__n_estimators&#x27;: [250, 500]}])</pre><b>In a Jupyter environment, please rerun this cell to show the HTML representation or trust the notebook. <br />On GitHub, the HTML representation is unable to render, please try loading this page with nbviewer.org.</b></div><div class=\"sk-container\" hidden><div class=\"sk-item sk-dashed-wrapped\"><div class=\"sk-label-container\"><div class=\"sk-label sk-toggleable\"><input class=\"sk-toggleable__control sk-hidden--visually\" id=\"sk-estimator-id-1\" type=\"checkbox\" ><label for=\"sk-estimator-id-1\" class=\"sk-toggleable__label sk-toggleable__label-arrow\">GridSearchCV</label><div class=\"sk-toggleable__content\"><pre>GridSearchCV(cv=3,\n",
       "             estimator=Pipeline(steps=[(&#x27;pca&#x27;, PCA()),\n",
       "                                       (&#x27;randomforestclassifier&#x27;,\n",
       "                                        RandomForestClassifier())]),\n",
       "             param_grid=[{&#x27;pca__n_components&#x27;: [0.7, 0.85, 0.95],\n",
       "                          &#x27;randomforestclassifier__max_depth&#x27;: [3, 10, None],\n",
       "                          &#x27;randomforestclassifier__n_estimators&#x27;: [250, 500]}])</pre></div></div></div><div class=\"sk-parallel\"><div class=\"sk-parallel-item\"><div class=\"sk-item\"><div class=\"sk-label-container\"><div class=\"sk-label sk-toggleable\"><input class=\"sk-toggleable__control sk-hidden--visually\" id=\"sk-estimator-id-2\" type=\"checkbox\" ><label for=\"sk-estimator-id-2\" class=\"sk-toggleable__label sk-toggleable__label-arrow\">estimator: Pipeline</label><div class=\"sk-toggleable__content\"><pre>Pipeline(steps=[(&#x27;pca&#x27;, PCA()),\n",
       "                (&#x27;randomforestclassifier&#x27;, RandomForestClassifier())])</pre></div></div></div><div class=\"sk-serial\"><div class=\"sk-item\"><div class=\"sk-serial\"><div class=\"sk-item\"><div class=\"sk-estimator sk-toggleable\"><input class=\"sk-toggleable__control sk-hidden--visually\" id=\"sk-estimator-id-3\" type=\"checkbox\" ><label for=\"sk-estimator-id-3\" class=\"sk-toggleable__label sk-toggleable__label-arrow\">PCA</label><div class=\"sk-toggleable__content\"><pre>PCA()</pre></div></div></div><div class=\"sk-item\"><div class=\"sk-estimator sk-toggleable\"><input class=\"sk-toggleable__control sk-hidden--visually\" id=\"sk-estimator-id-4\" type=\"checkbox\" ><label for=\"sk-estimator-id-4\" class=\"sk-toggleable__label sk-toggleable__label-arrow\">RandomForestClassifier</label><div class=\"sk-toggleable__content\"><pre>RandomForestClassifier()</pre></div></div></div></div></div></div></div></div></div></div></div></div>"
      ],
      "text/plain": [
       "GridSearchCV(cv=3,\n",
       "             estimator=Pipeline(steps=[('pca', PCA()),\n",
       "                                       ('randomforestclassifier',\n",
       "                                        RandomForestClassifier())]),\n",
       "             param_grid=[{'pca__n_components': [0.7, 0.85, 0.95],\n",
       "                          'randomforestclassifier__max_depth': [3, 10, None],\n",
       "                          'randomforestclassifier__n_estimators': [250, 500]}])"
      ]
     },
     "execution_count": 20,
     "metadata": {},
     "output_type": "execute_result"
    }
   ],
   "source": [
    "grid.fit(X_train_trans,Y_train)"
   ]
  },
  {
   "cell_type": "code",
   "execution_count": 21,
   "id": "eb62738a",
   "metadata": {},
   "outputs": [],
   "source": [
    "train_preds=pd.DataFrame(grid.predict(X_train_trans),columns=Y_train.columns)"
   ]
  },
  {
   "cell_type": "code",
   "execution_count": 22,
   "id": "37be76aa",
   "metadata": {},
   "outputs": [],
   "source": [
    "X_test_trans=pca.transform(X_test)"
   ]
  },
  {
   "cell_type": "code",
   "execution_count": 23,
   "id": "b8c8e4a7",
   "metadata": {},
   "outputs": [],
   "source": [
    "test_preds=pd.DataFrame(grid.predict(X_test_trans),columns=Y_test.columns)"
   ]
  },
  {
   "cell_type": "code",
   "execution_count": 24,
   "id": "95e331bb",
   "metadata": {},
   "outputs": [],
   "source": [
    "train_scores = {score.__name__: calculate_quality(Y_train, train_preds, score) \n",
    "                for score in [accuracy_score, precision_score, recall_score]}\n",
    "train_scores = pd.concat(train_scores,axis=1)"
   ]
  },
  {
   "cell_type": "code",
   "execution_count": 25,
   "id": "502f0712",
   "metadata": {},
   "outputs": [
    {
     "data": {
      "text/html": [
       "<div>\n",
       "<style scoped>\n",
       "    .dataframe tbody tr th:only-of-type {\n",
       "        vertical-align: middle;\n",
       "    }\n",
       "\n",
       "    .dataframe tbody tr th {\n",
       "        vertical-align: top;\n",
       "    }\n",
       "\n",
       "    .dataframe thead th {\n",
       "        text-align: right;\n",
       "    }\n",
       "</style>\n",
       "<table border=\"1\" class=\"dataframe\">\n",
       "  <thead>\n",
       "    <tr style=\"text-align: right;\">\n",
       "      <th></th>\n",
       "      <th>accuracy_score</th>\n",
       "      <th>precision_score</th>\n",
       "      <th>recall_score</th>\n",
       "    </tr>\n",
       "  </thead>\n",
       "  <tbody>\n",
       "    <tr>\n",
       "      <th>Developer, front-end</th>\n",
       "      <td>99.99</td>\n",
       "      <td>100.00</td>\n",
       "      <td>99.94</td>\n",
       "    </tr>\n",
       "    <tr>\n",
       "      <th>Developer, full-stack</th>\n",
       "      <td>99.99</td>\n",
       "      <td>100.00</td>\n",
       "      <td>99.97</td>\n",
       "    </tr>\n",
       "    <tr>\n",
       "      <th>Developer, mobile</th>\n",
       "      <td>99.99</td>\n",
       "      <td>99.93</td>\n",
       "      <td>100.00</td>\n",
       "    </tr>\n",
       "    <tr>\n",
       "      <th>Data or business analyst</th>\n",
       "      <td>99.98</td>\n",
       "      <td>99.86</td>\n",
       "      <td>99.93</td>\n",
       "    </tr>\n",
       "    <tr>\n",
       "      <th>Database administrator</th>\n",
       "      <td>99.98</td>\n",
       "      <td>99.92</td>\n",
       "      <td>99.84</td>\n",
       "    </tr>\n",
       "    <tr>\n",
       "      <th>DevOps specialist</th>\n",
       "      <td>99.98</td>\n",
       "      <td>100.00</td>\n",
       "      <td>99.80</td>\n",
       "    </tr>\n",
       "    <tr>\n",
       "      <th>Developer, desktop or enterprise applications</th>\n",
       "      <td>99.98</td>\n",
       "      <td>99.95</td>\n",
       "      <td>99.90</td>\n",
       "    </tr>\n",
       "    <tr>\n",
       "      <th>Developer, embedded applications or devices</th>\n",
       "      <td>99.98</td>\n",
       "      <td>100.00</td>\n",
       "      <td>99.76</td>\n",
       "    </tr>\n",
       "    <tr>\n",
       "      <th>Engineer, data</th>\n",
       "      <td>99.98</td>\n",
       "      <td>100.00</td>\n",
       "      <td>99.79</td>\n",
       "    </tr>\n",
       "    <tr>\n",
       "      <th>System administrator</th>\n",
       "      <td>99.98</td>\n",
       "      <td>100.00</td>\n",
       "      <td>99.80</td>\n",
       "    </tr>\n",
       "    <tr>\n",
       "      <th>Developer, QA or test</th>\n",
       "      <td>99.97</td>\n",
       "      <td>99.81</td>\n",
       "      <td>99.81</td>\n",
       "    </tr>\n",
       "    <tr>\n",
       "      <th>Developer, back-end</th>\n",
       "      <td>99.97</td>\n",
       "      <td>99.97</td>\n",
       "      <td>99.92</td>\n",
       "    </tr>\n",
       "    <tr>\n",
       "      <th>Academic researcher</th>\n",
       "      <td>99.96</td>\n",
       "      <td>99.75</td>\n",
       "      <td>99.94</td>\n",
       "    </tr>\n",
       "    <tr>\n",
       "      <th>Data scientist or machine learning specialist</th>\n",
       "      <td>99.96</td>\n",
       "      <td>99.78</td>\n",
       "      <td>99.94</td>\n",
       "    </tr>\n",
       "    <tr>\n",
       "      <th>Developer, game or graphics</th>\n",
       "      <td>99.96</td>\n",
       "      <td>100.00</td>\n",
       "      <td>99.51</td>\n",
       "    </tr>\n",
       "    <tr>\n",
       "      <th>Scientist</th>\n",
       "      <td>99.93</td>\n",
       "      <td>99.62</td>\n",
       "      <td>99.62</td>\n",
       "    </tr>\n",
       "  </tbody>\n",
       "</table>\n",
       "</div>"
      ],
      "text/plain": [
       "                                               accuracy_score  \\\n",
       "Developer, front-end                                    99.99   \n",
       "Developer, full-stack                                   99.99   \n",
       "Developer, mobile                                       99.99   \n",
       "Data or business analyst                                99.98   \n",
       "Database administrator                                  99.98   \n",
       "DevOps specialist                                       99.98   \n",
       "Developer, desktop or enterprise applications           99.98   \n",
       "Developer, embedded applications or devices             99.98   \n",
       "Engineer, data                                          99.98   \n",
       "System administrator                                    99.98   \n",
       "Developer, QA or test                                   99.97   \n",
       "Developer, back-end                                     99.97   \n",
       "Academic researcher                                     99.96   \n",
       "Data scientist or machine learning specialist           99.96   \n",
       "Developer, game or graphics                             99.96   \n",
       "Scientist                                               99.93   \n",
       "\n",
       "                                               precision_score  recall_score  \n",
       "Developer, front-end                                    100.00         99.94  \n",
       "Developer, full-stack                                   100.00         99.97  \n",
       "Developer, mobile                                        99.93        100.00  \n",
       "Data or business analyst                                 99.86         99.93  \n",
       "Database administrator                                   99.92         99.84  \n",
       "DevOps specialist                                       100.00         99.80  \n",
       "Developer, desktop or enterprise applications            99.95         99.90  \n",
       "Developer, embedded applications or devices             100.00         99.76  \n",
       "Engineer, data                                          100.00         99.79  \n",
       "System administrator                                    100.00         99.80  \n",
       "Developer, QA or test                                    99.81         99.81  \n",
       "Developer, back-end                                      99.97         99.92  \n",
       "Academic researcher                                      99.75         99.94  \n",
       "Data scientist or machine learning specialist            99.78         99.94  \n",
       "Developer, game or graphics                             100.00         99.51  \n",
       "Scientist                                                99.62         99.62  "
      ]
     },
     "execution_count": 25,
     "metadata": {},
     "output_type": "execute_result"
    }
   ],
   "source": [
    "train_scores"
   ]
  },
  {
   "cell_type": "code",
   "execution_count": 26,
   "id": "fb40a2dd",
   "metadata": {},
   "outputs": [],
   "source": [
    "test_scores = {score.__name__: calculate_quality(Y_test, test_preds, score) \n",
    "                for score in [accuracy_score, precision_score, recall_score]}\n",
    "test_scores = pd.concat(test_scores,axis=1)"
   ]
  },
  {
   "cell_type": "code",
   "execution_count": 27,
   "id": "7366274e",
   "metadata": {},
   "outputs": [
    {
     "data": {
      "text/html": [
       "<div>\n",
       "<style scoped>\n",
       "    .dataframe tbody tr th:only-of-type {\n",
       "        vertical-align: middle;\n",
       "    }\n",
       "\n",
       "    .dataframe tbody tr th {\n",
       "        vertical-align: top;\n",
       "    }\n",
       "\n",
       "    .dataframe thead th {\n",
       "        text-align: right;\n",
       "    }\n",
       "</style>\n",
       "<table border=\"1\" class=\"dataframe\">\n",
       "  <thead>\n",
       "    <tr style=\"text-align: right;\">\n",
       "      <th></th>\n",
       "      <th>accuracy_score</th>\n",
       "      <th>precision_score</th>\n",
       "      <th>recall_score</th>\n",
       "    </tr>\n",
       "  </thead>\n",
       "  <tbody>\n",
       "    <tr>\n",
       "      <th>Developer, game or graphics</th>\n",
       "      <td>97.60</td>\n",
       "      <td>98.00</td>\n",
       "      <td>69.01</td>\n",
       "    </tr>\n",
       "    <tr>\n",
       "      <th>Scientist</th>\n",
       "      <td>96.93</td>\n",
       "      <td>95.06</td>\n",
       "      <td>73.18</td>\n",
       "    </tr>\n",
       "    <tr>\n",
       "      <th>Developer, QA or test</th>\n",
       "      <td>96.44</td>\n",
       "      <td>99.26</td>\n",
       "      <td>56.81</td>\n",
       "    </tr>\n",
       "    <tr>\n",
       "      <th>Database administrator</th>\n",
       "      <td>95.07</td>\n",
       "      <td>99.16</td>\n",
       "      <td>45.56</td>\n",
       "    </tr>\n",
       "    <tr>\n",
       "      <th>Academic researcher</th>\n",
       "      <td>94.64</td>\n",
       "      <td>89.77</td>\n",
       "      <td>59.29</td>\n",
       "    </tr>\n",
       "    <tr>\n",
       "      <th>Developer, embedded applications or devices</th>\n",
       "      <td>94.46</td>\n",
       "      <td>91.53</td>\n",
       "      <td>41.94</td>\n",
       "    </tr>\n",
       "    <tr>\n",
       "      <th>Data or business analyst</th>\n",
       "      <td>94.44</td>\n",
       "      <td>91.67</td>\n",
       "      <td>49.31</td>\n",
       "    </tr>\n",
       "    <tr>\n",
       "      <th>Data scientist or machine learning specialist</th>\n",
       "      <td>94.08</td>\n",
       "      <td>88.06</td>\n",
       "      <td>65.17</td>\n",
       "    </tr>\n",
       "    <tr>\n",
       "      <th>Developer, mobile</th>\n",
       "      <td>93.91</td>\n",
       "      <td>91.47</td>\n",
       "      <td>51.81</td>\n",
       "    </tr>\n",
       "    <tr>\n",
       "      <th>Engineer, data</th>\n",
       "      <td>93.78</td>\n",
       "      <td>96.97</td>\n",
       "      <td>42.24</td>\n",
       "    </tr>\n",
       "    <tr>\n",
       "      <th>System administrator</th>\n",
       "      <td>93.33</td>\n",
       "      <td>97.45</td>\n",
       "      <td>41.46</td>\n",
       "    </tr>\n",
       "    <tr>\n",
       "      <th>DevOps specialist</th>\n",
       "      <td>92.88</td>\n",
       "      <td>91.90</td>\n",
       "      <td>40.28</td>\n",
       "    </tr>\n",
       "    <tr>\n",
       "      <th>Developer, desktop or enterprise applications</th>\n",
       "      <td>90.49</td>\n",
       "      <td>90.78</td>\n",
       "      <td>32.90</td>\n",
       "    </tr>\n",
       "    <tr>\n",
       "      <th>Developer, front-end</th>\n",
       "      <td>89.38</td>\n",
       "      <td>83.95</td>\n",
       "      <td>34.51</td>\n",
       "    </tr>\n",
       "    <tr>\n",
       "      <th>Developer, full-stack</th>\n",
       "      <td>83.89</td>\n",
       "      <td>75.52</td>\n",
       "      <td>66.67</td>\n",
       "    </tr>\n",
       "    <tr>\n",
       "      <th>Developer, back-end</th>\n",
       "      <td>79.50</td>\n",
       "      <td>79.27</td>\n",
       "      <td>42.91</td>\n",
       "    </tr>\n",
       "  </tbody>\n",
       "</table>\n",
       "</div>"
      ],
      "text/plain": [
       "                                               accuracy_score  \\\n",
       "Developer, game or graphics                             97.60   \n",
       "Scientist                                               96.93   \n",
       "Developer, QA or test                                   96.44   \n",
       "Database administrator                                  95.07   \n",
       "Academic researcher                                     94.64   \n",
       "Developer, embedded applications or devices             94.46   \n",
       "Data or business analyst                                94.44   \n",
       "Data scientist or machine learning specialist           94.08   \n",
       "Developer, mobile                                       93.91   \n",
       "Engineer, data                                          93.78   \n",
       "System administrator                                    93.33   \n",
       "DevOps specialist                                       92.88   \n",
       "Developer, desktop or enterprise applications           90.49   \n",
       "Developer, front-end                                    89.38   \n",
       "Developer, full-stack                                   83.89   \n",
       "Developer, back-end                                     79.50   \n",
       "\n",
       "                                               precision_score  recall_score  \n",
       "Developer, game or graphics                              98.00         69.01  \n",
       "Scientist                                                95.06         73.18  \n",
       "Developer, QA or test                                    99.26         56.81  \n",
       "Database administrator                                   99.16         45.56  \n",
       "Academic researcher                                      89.77         59.29  \n",
       "Developer, embedded applications or devices              91.53         41.94  \n",
       "Data or business analyst                                 91.67         49.31  \n",
       "Data scientist or machine learning specialist            88.06         65.17  \n",
       "Developer, mobile                                        91.47         51.81  \n",
       "Engineer, data                                           96.97         42.24  \n",
       "System administrator                                     97.45         41.46  \n",
       "DevOps specialist                                        91.90         40.28  \n",
       "Developer, desktop or enterprise applications            90.78         32.90  \n",
       "Developer, front-end                                     83.95         34.51  \n",
       "Developer, full-stack                                    75.52         66.67  \n",
       "Developer, back-end                                      79.27         42.91  "
      ]
     },
     "execution_count": 27,
     "metadata": {},
     "output_type": "execute_result"
    }
   ],
   "source": [
    "test_scores"
   ]
  },
  {
   "cell_type": "markdown",
   "id": "b8fcbfb1",
   "metadata": {},
   "source": [
    "- that's good we can see that the generalization of precision is very good "
   ]
  }
 ],
 "metadata": {
  "kernelspec": {
   "display_name": "Python 3 (ipykernel)",
   "language": "python",
   "name": "python3"
  },
  "language_info": {
   "codemirror_mode": {
    "name": "ipython",
    "version": 3
   },
   "file_extension": ".py",
   "mimetype": "text/x-python",
   "name": "python",
   "nbconvert_exporter": "python",
   "pygments_lexer": "ipython3",
   "version": "3.10.9"
  }
 },
 "nbformat": 4,
 "nbformat_minor": 5
}
